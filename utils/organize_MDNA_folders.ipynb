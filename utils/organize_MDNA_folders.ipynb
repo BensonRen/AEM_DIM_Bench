{
 "cells": [
  {
   "cell_type": "markdown",
   "metadata": {},
   "source": [
    "## Functions to organize the MDNA experiment folders sturctures\n",
    "\n",
    "This is done after the utils/delete.py and utils/plotsAnalysis.py\n",
    "\n",
    "This is to put folders into subgroups like bs_10 and bs_500 so that the plots don't clutter at the same place"
   ]
  },
  {
   "cell_type": "code",
   "execution_count": 4,
   "metadata": {},
   "outputs": [],
   "source": [
    "import os\n",
    "import numpy as np\n",
    "import pandas as pd\n",
    "import matplotlib.pyplot as plt\n",
    "import shutil\n",
    "import glob\n"
   ]
  },
  {
   "cell_type": "code",
   "execution_count": 5,
   "metadata": {},
   "outputs": [
    {
     "name": "stdout",
     "output_type": "stream",
     "text": [
      "['500', '2048', '50', '10', '1000', '100']\n"
     ]
    }
   ],
   "source": [
    "# Set up some parameters\n",
    "target_folder = '/home/sr365/MDNA_temp/end_150'\n",
    "key_word = 'bs'\n",
    "value_list = []\n",
    "\n",
    "# Take the key words to separate\n",
    "for file in os.listdir(target_folder):\n",
    "    if key_word not in file:\n",
    "        continue\n",
    "    # Value \n",
    "    value = file.split(key_word)[-1].split('_')[1]\n",
    "    #print(value)\n",
    "    # Add this value to the value list\n",
    "    if value not in value_list:\n",
    "        value_list.append(value)\n",
    "\n",
    "print(value_list)"
   ]
  },
  {
   "cell_type": "code",
   "execution_count": 6,
   "metadata": {},
   "outputs": [
    {
     "name": "stdout",
     "output_type": "stream",
     "text": [
      "['/home/sr365/MDNA_temp/end_150/extreme_data_Chen_best_model_bs_500_md_coeff_1e-05_md_radius_0.5_md_start_-1_md_end_150', '/home/sr365/MDNA_temp/end_150/extreme_data_Chen_best_model_bs_500_md_coeff_0.0001_md_radius_0.01_md_start_-1_md_end_150', '/home/sr365/MDNA_temp/end_150/extreme_data_Chen_best_model_bs_500_md_coeff_0.0001_md_radius_0.001_md_start_-1_md_end_150', '/home/sr365/MDNA_temp/end_150/extreme_data_Chen_best_model_bs_500_md_coeff_5e-06_md_radius_0.1_md_start_-1_md_end_150', '/home/sr365/MDNA_temp/end_150/extreme_data_Chen_best_model_bs_500_md_coeff_5e-05_md_radius_0.01_md_start_-1_md_end_150', '/home/sr365/MDNA_temp/end_150/extreme_data_Chen_best_model_bs_500_md_coeff_5e-05_md_radius_0.001_md_start_-1_md_end_150', '/home/sr365/MDNA_temp/end_150/extreme_data_Chen_best_model_bs_500_md_coeff_1e-05_md_radius_0.001_md_start_-1_md_end_150', '/home/sr365/MDNA_temp/end_150/extreme_data_Chen_best_model_bs_500_md_coeff_0.0005_md_radius_0.001_md_start_-1_md_end_150', '/home/sr365/MDNA_temp/end_150/extreme_data_Chen_best_model_bs_500_md_coeff_5e-06_md_radius_0.5_md_start_-1_md_end_150', '/home/sr365/MDNA_temp/end_150/extreme_data_Chen_best_model_bs_500_md_coeff_5e-05_md_radius_0.1_md_start_-1_md_end_150', '/home/sr365/MDNA_temp/end_150/extreme_data_Chen_best_model_bs_500_md_coeff_0.0005_md_radius_0.5_md_start_-1_md_end_150', '/home/sr365/MDNA_temp/end_150/extreme_data_Chen_best_model_bs_500_md_coeff_0.0001_md_radius_0.5_md_start_-1_md_end_150', '/home/sr365/MDNA_temp/end_150/extreme_data_Chen_best_model_bs_500_md_coeff_1e-05_md_radius_0.1_md_start_-1_md_end_150', '/home/sr365/MDNA_temp/end_150/extreme_data_Chen_best_model_bs_500_md_coeff_1e-06_md_radius_0.01_md_start_-1_md_end_150', '/home/sr365/MDNA_temp/end_150/extreme_data_Chen_best_model_bs_500_md_coeff_0.0001_md_radius_0.1_md_start_-1_md_end_150', '/home/sr365/MDNA_temp/end_150/extreme_data_Chen_best_model_bs_500_md_coeff_1e-06_md_radius_0.5_md_start_-1_md_end_150', '/home/sr365/MDNA_temp/end_150/extreme_data_Chen_best_model_bs_500_md_coeff_1e-06_md_radius_0.1_md_start_-1_md_end_150', '/home/sr365/MDNA_temp/end_150/extreme_data_Chen_best_model_bs_500_md_coeff_1e-06_md_radius_0.001_md_start_-1_md_end_150', '/home/sr365/MDNA_temp/end_150/extreme_data_Chen_best_model_bs_500_md_coeff_1e-05_md_radius_0.01_md_start_-1_md_end_150', '/home/sr365/MDNA_temp/end_150/extreme_data_Chen_best_model_bs_500_md_coeff_5e-06_md_radius_0.001_md_start_-1_md_end_150', '/home/sr365/MDNA_temp/end_150/extreme_data_Chen_best_model_bs_500_md_coeff_0.0005_md_radius_0.01_md_start_-1_md_end_150', '/home/sr365/MDNA_temp/end_150/extreme_data_Chen_best_model_bs_500_md_coeff_0.0005_md_radius_0.1_md_start_-1_md_end_150', '/home/sr365/MDNA_temp/end_150/extreme_data_Chen_best_model_bs_500_md_coeff_5e-06_md_radius_0.01_md_start_-1_md_end_150', '/home/sr365/MDNA_temp/end_150/extreme_data_Chen_best_model_bs_500_md_coeff_5e-05_md_radius_0.5_md_start_-1_md_end_150']\n",
      "['/home/sr365/MDNA_temp/end_150/extreme_data_Chen_best_model_bs_2048_md_coeff_1e-05_md_radius_0.001_md_start_-1_md_end_150', '/home/sr365/MDNA_temp/end_150/extreme_data_Chen_best_model_bs_2048_md_coeff_0.0005_md_radius_0.5_md_start_-1_md_end_150', '/home/sr365/MDNA_temp/end_150/extreme_data_Chen_best_model_bs_2048_md_coeff_5e-05_md_radius_0.5_md_start_-1_md_end_150', '/home/sr365/MDNA_temp/end_150/extreme_data_Chen_best_model_bs_2048_md_coeff_1e-06_md_radius_0.1_md_start_-1_md_end_150', '/home/sr365/MDNA_temp/end_150/extreme_data_Chen_best_model_bs_2048_md_coeff_1e-06_md_radius_0.5_md_start_-1_md_end_150', '/home/sr365/MDNA_temp/end_150/extreme_data_Chen_best_model_bs_2048_md_coeff_0.0005_md_radius_0.001_md_start_-1_md_end_150', '/home/sr365/MDNA_temp/end_150/extreme_data_Chen_best_model_bs_2048_md_coeff_0.0001_md_radius_0.1_md_start_-1_md_end_150', '/home/sr365/MDNA_temp/end_150/extreme_data_Chen_best_model_bs_2048_md_coeff_1e-06_md_radius_0.001_md_start_-1_md_end_150', '/home/sr365/MDNA_temp/end_150/extreme_data_Chen_best_model_bs_2048_md_coeff_5e-06_md_radius_0.5_md_start_-1_md_end_150', '/home/sr365/MDNA_temp/end_150/extreme_data_Chen_best_model_bs_2048_md_coeff_0.0001_md_radius_0.01_md_start_-1_md_end_150', '/home/sr365/MDNA_temp/end_150/extreme_data_Chen_best_model_bs_2048_md_coeff_0.0005_md_radius_0.01_md_start_-1_md_end_150', '/home/sr365/MDNA_temp/end_150/extreme_data_Chen_best_model_bs_2048_md_coeff_5e-05_md_radius_0.1_md_start_-1_md_end_150', '/home/sr365/MDNA_temp/end_150/extreme_data_Chen_best_model_bs_2048_md_coeff_1e-05_md_radius_0.01_md_start_-1_md_end_150', '/home/sr365/MDNA_temp/end_150/extreme_data_Chen_best_model_bs_2048_md_coeff_0.0005_md_radius_0.1_md_start_-1_md_end_150', '/home/sr365/MDNA_temp/end_150/extreme_data_Chen_best_model_bs_2048_md_coeff_1e-06_md_radius_0.01_md_start_-1_md_end_150', '/home/sr365/MDNA_temp/end_150/extreme_data_Chen_best_model_bs_2048_md_coeff_1e-05_md_radius_0.5_md_start_-1_md_end_150', '/home/sr365/MDNA_temp/end_150/extreme_data_Chen_best_model_bs_2048_md_coeff_1e-05_md_radius_0.1_md_start_-1_md_end_150', '/home/sr365/MDNA_temp/end_150/extreme_data_Chen_best_model_bs_2048_md_coeff_5e-05_md_radius_0.01_md_start_-1_md_end_150', '/home/sr365/MDNA_temp/end_150/extreme_data_Chen_best_model_bs_2048_md_coeff_5e-06_md_radius_0.1_md_start_-1_md_end_150', '/home/sr365/MDNA_temp/end_150/extreme_data_Chen_best_model_bs_2048_md_coeff_0.0001_md_radius_0.5_md_start_-1_md_end_150', '/home/sr365/MDNA_temp/end_150/extreme_data_Chen_best_model_bs_2048_md_coeff_5e-06_md_radius_0.001_md_start_-1_md_end_150', '/home/sr365/MDNA_temp/end_150/extreme_data_Chen_best_model_bs_2048_md_coeff_0.0001_md_radius_0.001_md_start_-1_md_end_150', '/home/sr365/MDNA_temp/end_150/extreme_data_Chen_best_model_bs_2048_md_coeff_5e-05_md_radius_0.001_md_start_-1_md_end_150', '/home/sr365/MDNA_temp/end_150/extreme_data_Chen_best_model_bs_2048_md_coeff_5e-06_md_radius_0.01_md_start_-1_md_end_150']\n",
      "['/home/sr365/MDNA_temp/end_150/extreme_data_Chen_best_model_bs_50_md_coeff_5e-05_md_radius_0.1_md_start_-1_md_end_150', '/home/sr365/MDNA_temp/end_150/extreme_data_Chen_best_model_bs_50_md_coeff_5e-05_md_radius_0.001_md_start_-1_md_end_150', '/home/sr365/MDNA_temp/end_150/extreme_data_Chen_best_model_bs_50_md_coeff_0.0005_md_radius_0.5_md_start_-1_md_end_150', '/home/sr365/MDNA_temp/end_150/extreme_data_Chen_best_model_bs_50_md_coeff_1e-06_md_radius_0.01_md_start_-1_md_end_150', '/home/sr365/MDNA_temp/end_150/extreme_data_Chen_best_model_bs_50_md_coeff_5e-06_md_radius_0.1_md_start_-1_md_end_150', '/home/sr365/MDNA_temp/end_150/extreme_data_Chen_best_model_bs_50_md_coeff_0.0005_md_radius_0.01_md_start_-1_md_end_150', '/home/sr365/MDNA_temp/end_150/extreme_data_Chen_best_model_bs_50_md_coeff_0.0005_md_radius_0.1_md_start_-1_md_end_150', '/home/sr365/MDNA_temp/end_150/extreme_data_Chen_best_model_bs_50_md_coeff_5e-06_md_radius_0.001_md_start_-1_md_end_150', '/home/sr365/MDNA_temp/end_150/extreme_data_Chen_best_model_bs_50_md_coeff_0.0001_md_radius_0.001_md_start_-1_md_end_150', '/home/sr365/MDNA_temp/end_150/extreme_data_Chen_best_model_bs_50_md_coeff_1e-05_md_radius_0.5_md_start_-1_md_end_150', '/home/sr365/MDNA_temp/end_150/extreme_data_Chen_best_model_bs_50_md_coeff_1e-06_md_radius_0.5_md_start_-1_md_end_150', '/home/sr365/MDNA_temp/end_150/extreme_data_Chen_best_model_bs_50_md_coeff_5e-05_md_radius_0.5_md_start_-1_md_end_150', '/home/sr365/MDNA_temp/end_150/extreme_data_Chen_best_model_bs_50_md_coeff_1e-05_md_radius_0.01_md_start_-1_md_end_150', '/home/sr365/MDNA_temp/end_150/extreme_data_Chen_best_model_bs_50_md_coeff_0.0001_md_radius_0.5_md_start_-1_md_end_150', '/home/sr365/MDNA_temp/end_150/extreme_data_Chen_best_model_bs_50_md_coeff_1e-05_md_radius_0.1_md_start_-1_md_end_150', '/home/sr365/MDNA_temp/end_150/extreme_data_Chen_best_model_bs_50_md_coeff_0.0001_md_radius_0.1_md_start_-1_md_end_150', '/home/sr365/MDNA_temp/end_150/extreme_data_Chen_best_model_bs_50_md_coeff_0.0005_md_radius_0.001_md_start_-1_md_end_150', '/home/sr365/MDNA_temp/end_150/extreme_data_Chen_best_model_bs_50_md_coeff_5e-06_md_radius_0.5_md_start_-1_md_end_150', '/home/sr365/MDNA_temp/end_150/extreme_data_Chen_best_model_bs_50_md_coeff_1e-06_md_radius_0.001_md_start_-1_md_end_150', '/home/sr365/MDNA_temp/end_150/extreme_data_Chen_best_model_bs_50_md_coeff_5e-05_md_radius_0.01_md_start_-1_md_end_150', '/home/sr365/MDNA_temp/end_150/extreme_data_Chen_best_model_bs_50_md_coeff_1e-05_md_radius_0.001_md_start_-1_md_end_150', '/home/sr365/MDNA_temp/end_150/extreme_data_Chen_best_model_bs_50_md_coeff_1e-06_md_radius_0.1_md_start_-1_md_end_150', '/home/sr365/MDNA_temp/end_150/extreme_data_Chen_best_model_bs_50_md_coeff_5e-06_md_radius_0.01_md_start_-1_md_end_150', '/home/sr365/MDNA_temp/end_150/extreme_data_Chen_best_model_bs_50_md_coeff_0.0001_md_radius_0.01_md_start_-1_md_end_150']\n",
      "['/home/sr365/MDNA_temp/end_150/extreme_data_Chen_best_model_bs_10_md_coeff_5e-06_md_radius_0.01_md_start_-1_md_end_150', '/home/sr365/MDNA_temp/end_150/extreme_data_Chen_best_model_bs_10_md_coeff_5e-06_md_radius_0.1_md_start_-1_md_end_150', '/home/sr365/MDNA_temp/end_150/extreme_data_Chen_best_model_bs_10_md_coeff_1e-06_md_radius_0.5_md_start_-1_md_end_150', '/home/sr365/MDNA_temp/end_150/extreme_data_Chen_best_model_bs_10_md_coeff_1e-05_md_radius_0.1_md_start_-1_md_end_150', '/home/sr365/MDNA_temp/end_150/extreme_data_Chen_best_model_bs_10_md_coeff_0.0005_md_radius_0.01_md_start_-1_md_end_150', '/home/sr365/MDNA_temp/end_150/extreme_data_Chen_best_model_bs_10_md_coeff_0.0001_md_radius_0.001_md_start_-1_md_end_150', '/home/sr365/MDNA_temp/end_150/extreme_data_Chen_best_model_bs_10_md_coeff_1e-05_md_radius_0.5_md_start_-1_md_end_150', '/home/sr365/MDNA_temp/end_150/extreme_data_Chen_best_model_bs_10_md_coeff_5e-05_md_radius_0.01_md_start_-1_md_end_150', '/home/sr365/MDNA_temp/end_150/extreme_data_Chen_best_model_bs_10_md_coeff_1e-05_md_radius_0.01_md_start_-1_md_end_150', '/home/sr365/MDNA_temp/end_150/extreme_data_Chen_best_model_bs_10_md_coeff_0.0005_md_radius_0.001_md_start_-1_md_end_150', '/home/sr365/MDNA_temp/end_150/extreme_data_Chen_best_model_bs_10_md_coeff_5e-05_md_radius_0.001_md_start_-1_md_end_150', '/home/sr365/MDNA_temp/end_150/extreme_data_Chen_best_model_bs_10_md_coeff_1e-06_md_radius_0.1_md_start_-1_md_end_150', '/home/sr365/MDNA_temp/end_150/extreme_data_Chen_best_model_bs_10_md_coeff_5e-05_md_radius_0.5_md_start_-1_md_end_150', '/home/sr365/MDNA_temp/end_150/extreme_data_Chen_best_model_bs_10_md_coeff_1e-06_md_radius_0.01_md_start_-1_md_end_150', '/home/sr365/MDNA_temp/end_150/extreme_data_Chen_best_model_bs_10_md_coeff_0.0001_md_radius_0.1_md_start_-1_md_end_150', '/home/sr365/MDNA_temp/end_150/extreme_data_Chen_best_model_bs_10_md_coeff_1e-05_md_radius_0.001_md_start_-1_md_end_150', '/home/sr365/MDNA_temp/end_150/extreme_data_Chen_best_model_bs_10_md_coeff_5e-06_md_radius_0.001_md_start_-1_md_end_150', '/home/sr365/MDNA_temp/end_150/extreme_data_Chen_best_model_bs_10_md_coeff_0.0005_md_radius_0.1_md_start_-1_md_end_150', '/home/sr365/MDNA_temp/end_150/extreme_data_Chen_best_model_bs_10_md_coeff_0.0001_md_radius_0.01_md_start_-1_md_end_150', '/home/sr365/MDNA_temp/end_150/extreme_data_Chen_best_model_bs_10_md_coeff_5e-06_md_radius_0.5_md_start_-1_md_end_150', '/home/sr365/MDNA_temp/end_150/extreme_data_Chen_best_model_bs_10_md_coeff_0.0001_md_radius_0.5_md_start_-1_md_end_150', '/home/sr365/MDNA_temp/end_150/extreme_data_Chen_best_model_bs_10_md_coeff_0.0005_md_radius_0.5_md_start_-1_md_end_150', '/home/sr365/MDNA_temp/end_150/extreme_data_Chen_best_model_bs_10_md_coeff_1e-06_md_radius_0.001_md_start_-1_md_end_150', '/home/sr365/MDNA_temp/end_150/extreme_data_Chen_best_model_bs_10_md_coeff_5e-05_md_radius_0.1_md_start_-1_md_end_150']\n",
      "['/home/sr365/MDNA_temp/end_150/extreme_data_Chen_best_model_bs_1000_md_coeff_1e-06_md_radius_0.01_md_start_-1_md_end_150', '/home/sr365/MDNA_temp/end_150/extreme_data_Chen_best_model_bs_1000_md_coeff_0.0005_md_radius_0.5_md_start_-1_md_end_150', '/home/sr365/MDNA_temp/end_150/extreme_data_Chen_best_model_bs_1000_md_coeff_0.0005_md_radius_0.001_md_start_-1_md_end_150', '/home/sr365/MDNA_temp/end_150/extreme_data_Chen_best_model_bs_1000_md_coeff_1e-05_md_radius_0.01_md_start_-1_md_end_150', '/home/sr365/MDNA_temp/end_150/extreme_data_Chen_best_model_bs_1000_md_coeff_5e-06_md_radius_0.01_md_start_-1_md_end_150', '/home/sr365/MDNA_temp/end_150/extreme_data_Chen_best_model_bs_1000_md_coeff_0.0005_md_radius_0.1_md_start_-1_md_end_150', '/home/sr365/MDNA_temp/end_150/extreme_data_Chen_best_model_bs_1000_md_coeff_5e-05_md_radius_0.001_md_start_-1_md_end_150', '/home/sr365/MDNA_temp/end_150/extreme_data_Chen_best_model_bs_1000_md_coeff_0.0001_md_radius_0.1_md_start_-1_md_end_150', '/home/sr365/MDNA_temp/end_150/extreme_data_Chen_best_model_bs_1000_md_coeff_0.0005_md_radius_0.01_md_start_-1_md_end_150', '/home/sr365/MDNA_temp/end_150/extreme_data_Chen_best_model_bs_1000_md_coeff_5e-06_md_radius_0.5_md_start_-1_md_end_150', '/home/sr365/MDNA_temp/end_150/extreme_data_Chen_best_model_bs_1000_md_coeff_0.0001_md_radius_0.001_md_start_-1_md_end_150', '/home/sr365/MDNA_temp/end_150/extreme_data_Chen_best_model_bs_1000_md_coeff_5e-05_md_radius_0.1_md_start_-1_md_end_150', '/home/sr365/MDNA_temp/end_150/extreme_data_Chen_best_model_bs_1000_md_coeff_1e-06_md_radius_0.5_md_start_-1_md_end_150', '/home/sr365/MDNA_temp/end_150/extreme_data_Chen_best_model_bs_1000_md_coeff_0.0001_md_radius_0.5_md_start_-1_md_end_150', '/home/sr365/MDNA_temp/end_150/extreme_data_Chen_best_model_bs_1000_md_coeff_1e-05_md_radius_0.1_md_start_-1_md_end_150', '/home/sr365/MDNA_temp/end_150/extreme_data_Chen_best_model_bs_1000_md_coeff_5e-05_md_radius_0.5_md_start_-1_md_end_150', '/home/sr365/MDNA_temp/end_150/extreme_data_Chen_best_model_bs_1000_md_coeff_1e-05_md_radius_0.001_md_start_-1_md_end_150', '/home/sr365/MDNA_temp/end_150/extreme_data_Chen_best_model_bs_1000_md_coeff_0.0001_md_radius_0.01_md_start_-1_md_end_150', '/home/sr365/MDNA_temp/end_150/extreme_data_Chen_best_model_bs_1000_md_coeff_5e-05_md_radius_0.01_md_start_-1_md_end_150', '/home/sr365/MDNA_temp/end_150/extreme_data_Chen_best_model_bs_1000_md_coeff_1e-06_md_radius_0.001_md_start_-1_md_end_150', '/home/sr365/MDNA_temp/end_150/extreme_data_Chen_best_model_bs_1000_md_coeff_1e-05_md_radius_0.5_md_start_-1_md_end_150', '/home/sr365/MDNA_temp/end_150/extreme_data_Chen_best_model_bs_1000_md_coeff_5e-06_md_radius_0.1_md_start_-1_md_end_150', '/home/sr365/MDNA_temp/end_150/extreme_data_Chen_best_model_bs_1000_md_coeff_1e-06_md_radius_0.1_md_start_-1_md_end_150', '/home/sr365/MDNA_temp/end_150/extreme_data_Chen_best_model_bs_1000_md_coeff_5e-06_md_radius_0.001_md_start_-1_md_end_150']\n",
      "['/home/sr365/MDNA_temp/end_150/extreme_data_Chen_best_model_bs_100_md_coeff_5e-05_md_radius_0.5_md_start_-1_md_end_150', '/home/sr365/MDNA_temp/end_150/extreme_data_Chen_best_model_bs_100_md_coeff_0.0001_md_radius_0.1_md_start_-1_md_end_150', '/home/sr365/MDNA_temp/end_150/extreme_data_Chen_best_model_bs_100_md_coeff_1e-06_md_radius_0.5_md_start_-1_md_end_150', '/home/sr365/MDNA_temp/end_150/extreme_data_Chen_best_model_bs_100_md_coeff_5e-06_md_radius_0.1_md_start_-1_md_end_150', '/home/sr365/MDNA_temp/end_150/extreme_data_Chen_best_model_bs_100_md_coeff_1e-05_md_radius_0.001_md_start_-1_md_end_150', '/home/sr365/MDNA_temp/end_150/extreme_data_Chen_best_model_bs_100_md_coeff_5e-05_md_radius_0.01_md_start_-1_md_end_150', '/home/sr365/MDNA_temp/end_150/extreme_data_Chen_best_model_bs_100_md_coeff_5e-06_md_radius_0.5_md_start_-1_md_end_150', '/home/sr365/MDNA_temp/end_150/extreme_data_Chen_best_model_bs_100_md_coeff_1e-06_md_radius_0.1_md_start_-1_md_end_150', '/home/sr365/MDNA_temp/end_150/extreme_data_Chen_best_model_bs_100_md_coeff_0.0001_md_radius_0.001_md_start_-1_md_end_150', '/home/sr365/MDNA_temp/end_150/extreme_data_Chen_best_model_bs_100_md_coeff_1e-05_md_radius_0.5_md_start_-1_md_end_150', '/home/sr365/MDNA_temp/end_150/extreme_data_Chen_best_model_bs_100_md_coeff_1e-05_md_radius_0.01_md_start_-1_md_end_150', '/home/sr365/MDNA_temp/end_150/extreme_data_Chen_best_model_bs_100_md_coeff_0.0001_md_radius_0.01_md_start_-1_md_end_150', '/home/sr365/MDNA_temp/end_150/extreme_data_Chen_best_model_bs_100_md_coeff_5e-05_md_radius_0.001_md_start_-1_md_end_150', '/home/sr365/MDNA_temp/end_150/extreme_data_Chen_best_model_bs_100_md_coeff_5e-05_md_radius_0.1_md_start_-1_md_end_150', '/home/sr365/MDNA_temp/end_150/extreme_data_Chen_best_model_bs_100_md_coeff_0.0005_md_radius_0.5_md_start_-1_md_end_150', '/home/sr365/MDNA_temp/end_150/extreme_data_Chen_best_model_bs_100_md_coeff_0.0005_md_radius_0.01_md_start_-1_md_end_150', '/home/sr365/MDNA_temp/end_150/extreme_data_Chen_best_model_bs_100_md_coeff_1e-05_md_radius_0.1_md_start_-1_md_end_150', '/home/sr365/MDNA_temp/end_150/extreme_data_Chen_best_model_bs_100_md_coeff_0.0005_md_radius_0.1_md_start_-1_md_end_150', '/home/sr365/MDNA_temp/end_150/extreme_data_Chen_best_model_bs_100_md_coeff_5e-06_md_radius_0.01_md_start_-1_md_end_150', '/home/sr365/MDNA_temp/end_150/extreme_data_Chen_best_model_bs_100_md_coeff_1e-06_md_radius_0.001_md_start_-1_md_end_150', '/home/sr365/MDNA_temp/end_150/extreme_data_Chen_best_model_bs_100_md_coeff_1e-06_md_radius_0.01_md_start_-1_md_end_150', '/home/sr365/MDNA_temp/end_150/extreme_data_Chen_best_model_bs_100_md_coeff_0.0001_md_radius_0.5_md_start_-1_md_end_150', '/home/sr365/MDNA_temp/end_150/extreme_data_Chen_best_model_bs_100_md_coeff_0.0005_md_radius_0.001_md_start_-1_md_end_150', '/home/sr365/MDNA_temp/end_150/extreme_data_Chen_best_model_bs_100_md_coeff_5e-06_md_radius_0.001_md_start_-1_md_end_150']\n"
     ]
    }
   ],
   "source": [
    "# Creat the folders\n",
    "for value in value_list:\n",
    "    agg_folder = os.path.join(target_folder, key_word + '_' + str(value))\n",
    "    if not os.path.isdir(agg_folder):\n",
    "        os.mkdir(agg_folder)\n",
    "    folders_to_move = glob.glob(os.path.join(target_folder, '*{}_{}_*'.format(key_word, str(value))))\n",
    "    print(folders_to_move)\n",
    "    for folder in folders_to_move:\n",
    "        shutil.move(folder, agg_folder)"
   ]
  },
  {
   "cell_type": "code",
   "execution_count": null,
   "metadata": {},
   "outputs": [],
   "source": []
  }
 ],
 "metadata": {
  "interpreter": {
   "hash": "e0c901c02675fee51393c33bfa502e33ca284fb17fdf86b8a4f5c9070382ed49"
  },
  "kernelspec": {
   "display_name": "Python 3.7.9 64-bit ('benicml': conda)",
   "name": "python3"
  },
  "language_info": {
   "codemirror_mode": {
    "name": "ipython",
    "version": 3
   },
   "file_extension": ".py",
   "mimetype": "text/x-python",
   "name": "python",
   "nbconvert_exporter": "python",
   "pygments_lexer": "ipython3",
   "version": "3.7.9"
  },
  "orig_nbformat": 4
 },
 "nbformat": 4,
 "nbformat_minor": 2
}

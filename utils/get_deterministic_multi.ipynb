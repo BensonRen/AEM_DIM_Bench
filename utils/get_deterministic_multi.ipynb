{
 "cells": [
  {
   "cell_type": "code",
   "execution_count": 1,
   "metadata": {},
   "outputs": [],
   "source": [
    "import numpy as np\n",
    "import os\n",
    "import matplotlib.pyplot as plt\n",
    "import pandas as pd"
   ]
  },
  {
   "cell_type": "code",
   "execution_count": 11,
   "metadata": {},
   "outputs": [
    {
     "name": "stdout",
     "output_type": "stream",
     "text": [
      "working on dataset Peurifoy\n",
      "working on method Tandem\n",
      "../Tandem/data\n",
      "test_Ypred_new_best_Peurifoy.csv\n",
      "(2, 200)\n",
      "working on method NN\n",
      "../inverse/data\n",
      "test_Ypred_new_best_Peurifoy.csv\n",
      "(2, 200)\n"
     ]
    }
   ],
   "source": [
    "# Generate the mse_min_list.txt and mse_quan2575_list.txt for Tandem and naive inverse \n",
    "dataset = ['Peurifoy']\n",
    "# dataset = ['Yang','Chen','Peurifoy']\n",
    "min_list_name = 'mse_min_list.txt'\n",
    "quan2575_list_name = 'mse_quan2575_list.txt'\n",
    "method_list = ['Tandem','NN']\n",
    "directory_pos = {'Tandem': '../Tandem/data', \n",
    "                'NN': '../inverse/data'}\n",
    "target_dir = '../mm_bench_multi_eval/'\n",
    "for data in dataset:\n",
    "    print('working on dataset', data)\n",
    "    for method in method_list:\n",
    "        print('working on method', method)\n",
    "        # Get the directory\n",
    "        directory = directory_pos[method]\n",
    "        # Loop over the whole thing to find Ypred and Ytruth\n",
    "        for file in os.listdir(directory):\n",
    "            if data in file and 'Ypred' in file:\n",
    "                print(directory)\n",
    "                print(file)\n",
    "                Yp = pd.read_csv(os.path.join(directory, file), sep=' ', header=None).values\n",
    "                Yt = pd.read_csv(os.path.join(directory, file.replace('Ypred','Ytruth')), sep=' ', header=None).values\n",
    "                mse = np.mean(np.square(Yt - Yp), axis=1)\n",
    "                # Calculate the mse stats from mse list\n",
    "                mse_25_percent = np.percentile(mse, 25)*np.ones([1, 200])\n",
    "                mse_75_percent = np.percentile(mse, 75)*np.ones([1, 200])\n",
    "                mean_mse = np.mean(mse)*np.ones([200,1])\n",
    "                mse_quan_2575 = np.concatenate([mse_25_percent, mse_75_percent], axis=0)\n",
    "                print(np.shape(mse_quan_2575))\n",
    "                # Change the name to keep the same with other multi-eval\n",
    "                if data == 'Yang':\n",
    "                    data = 'Yang_sim'\n",
    "                # Create dir\n",
    "                if not os.path.isdir(os.path.join(target_dir, method, data)):\n",
    "                    os.makedirs(os.path.join(target_dir, method, data))\n",
    "                # Write the list down\n",
    "                np.savetxt(os.path.join(target_dir, method, data, min_list_name), mean_mse)\n",
    "                np.savetxt(os.path.join(target_dir, method, data, quan2575_list_name), mse_quan_2575)\n",
    "                break"
   ]
  },
  {
   "cell_type": "code",
   "execution_count": 4,
   "metadata": {},
   "outputs": [],
   "source": [
    "# Finding problem with cINN peurifoy\n",
    "mse_mat = pd.read_csv('/home/sr365/MM_Bench/mm_bench_multi_eval/finished/cINN/Peurifoy/mse_mat.csv',sep=' ', header=None)"
   ]
  },
  {
   "cell_type": "code",
   "execution_count": 9,
   "metadata": {},
   "outputs": [
    {
     "name": "stdout",
     "output_type": "stream",
     "text": [
      "6\n"
     ]
    }
   ],
   "source": [
    "# mse_mat\n",
    "# print(np.isnan(mse_mat))\n",
    "print(np.sum(np.sum(np.isnan(mse_mat))))"
   ]
  },
  {
   "cell_type": "code",
   "execution_count": null,
   "metadata": {},
   "outputs": [],
   "source": []
  },
  {
   "cell_type": "code",
   "execution_count": null,
   "metadata": {},
   "outputs": [],
   "source": []
  }
 ],
 "metadata": {
  "interpreter": {
   "hash": "e0c901c02675fee51393c33bfa502e33ca284fb17fdf86b8a4f5c9070382ed49"
  },
  "kernelspec": {
   "display_name": "Python 3.7.12 64-bit ('benicml': conda)",
   "language": "python",
   "name": "python3"
  },
  "language_info": {
   "codemirror_mode": {
    "name": "ipython",
    "version": 3
   },
   "file_extension": ".py",
   "mimetype": "text/x-python",
   "name": "python",
   "nbconvert_exporter": "python",
   "pygments_lexer": "ipython3",
   "version": "3.7.12"
  },
  "orig_nbformat": 4
 },
 "nbformat": 4,
 "nbformat_minor": 2
}
